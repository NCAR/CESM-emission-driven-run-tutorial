{
 "cells": [
  {
   "cell_type": "markdown",
   "metadata": {},
   "source": [
    "## Ocean carbon diagnostics for the SSP2-4.5 ensemble member 001"
   ]
  },
  {
   "cell_type": "markdown",
   "metadata": {},
   "source": [
    "## CESM emissions-driven run tutorial\n",
    "\n",
    "### By Kristen Krumhardt"
   ]
  },
  {
   "cell_type": "markdown",
   "metadata": {},
   "source": [
    "# ---------------------------"
   ]
  },
  {
   "cell_type": "markdown",
   "metadata": {},
   "source": [
    "### Import statements (using NPL 2023a environment)"
   ]
  },
  {
   "cell_type": "code",
   "execution_count": 1,
   "metadata": {},
   "outputs": [],
   "source": [
    "%matplotlib inline\n",
    "import warnings\n",
    "warnings.filterwarnings('ignore')\n",
    "import os\n",
    "from glob import glob\n",
    "from collections import OrderedDict\n",
    "import xarray as xr\n",
    "import numpy as np\n",
    "\n",
    "import matplotlib.pyplot as plt\n",
    "\n",
    "import pop_tools \n",
    "import pandas as pd"
   ]
  },
  {
   "cell_type": "markdown",
   "metadata": {},
   "source": [
    "### define case name and path"
   ]
  },
  {
   "cell_type": "code",
   "execution_count": 2,
   "metadata": {},
   "outputs": [],
   "source": [
    "case = 'b.e21.BSSP245.f09_g17.hopens-reference.esmfirebvoc.001'\n",
    "path = '/glade/campaign/cesm/collections/CCISEns/archive/' + case + '/ocn/hist/'"
   ]
  },
  {
   "cell_type": "markdown",
   "metadata": {},
   "source": [
    "### Grab year 2015"
   ]
  },
  {
   "cell_type": "code",
   "execution_count": 3,
   "metadata": {},
   "outputs": [],
   "source": [
    "files = []\n",
    "year = 2015\n",
    "\n",
    "yr4=\"{:04d}\".format(year)\n",
    "\n",
    "for month in range(1, 13):\n",
    "\n",
    "    mo2=\"{:02d}\".format(month)\n",
    "    files.extend(sorted(glob(f'{path}/{case}.pop.h.{yr4}-{mo2}.nc')))\n",
    "\n",
    "\n",
    "ds2015 = xr.open_mfdataset(files,decode_times=True,decode_coords=False, concat_dim='time', combine='nested')"
   ]
  },
  {
   "cell_type": "markdown",
   "metadata": {},
   "source": [
    "### Grab year 2100"
   ]
  },
  {
   "cell_type": "code",
   "execution_count": 4,
   "metadata": {},
   "outputs": [],
   "source": [
    "files = []\n",
    "year = 2100\n",
    "\n",
    "yr4=\"{:04d}\".format(year)\n",
    "\n",
    "for month in range(1, 13):\n",
    "\n",
    "    mo2=\"{:02d}\".format(month)\n",
    "    files.extend(sorted(glob(f'{path}/{case}.pop.h.{yr4}-{mo2}.nc')))\n",
    "\n",
    "\n",
    "ds2100 = xr.open_mfdataset(files,decode_times=True,decode_coords=False, concat_dim='time', combine='nested')"
   ]
  },
  {
   "cell_type": "markdown",
   "metadata": {},
   "source": [
    "###  Specify desired variables and drop the rest"
   ]
  },
  {
   "cell_type": "code",
   "execution_count": 5,
   "metadata": {},
   "outputs": [],
   "source": [
    "variables = ['coccoCaCO3','diatC', 'coccoC','spC','diazC',\n",
    "             'microzooC','mesozooC','DIC','DOC','DOCr'] \n",
    "\n",
    "keep_vars = ['z_t','z_t_150m','time_bound','TAREA',\n",
    "             'REGION_MASK','dz','KMT','TLONG','TLONG'] + variables\n",
    "\n",
    "ds2015 = ds2015.drop([v for v in ds2015.variables if v not in keep_vars])\n",
    "ds2100 = ds2100.drop([v for v in ds2100.variables if v not in keep_vars])"
   ]
  },
  {
   "cell_type": "markdown",
   "metadata": {},
   "source": [
    "### Make an annual mean"
   ]
  },
  {
   "cell_type": "code",
   "execution_count": 6,
   "metadata": {},
   "outputs": [],
   "source": [
    "ds2015 = ds2015.mean(dim='time')\n",
    "ds2100 = ds2100.mean(dim='time')"
   ]
  },
  {
   "cell_type": "markdown",
   "metadata": {},
   "source": [
    "### Use pop tools to get ocean grid info"
   ]
  },
  {
   "cell_type": "code",
   "execution_count": 7,
   "metadata": {},
   "outputs": [],
   "source": [
    "ds_grid = pop_tools.get_grid('POP_gx1v7')\n",
    "lats = ds_grid.TLAT\n",
    "lons = ds_grid.TLONG\n",
    "area = ds_grid.TAREA\n",
    "area_m2 = area * 1.e-4\n",
    "dz_m = ds_grid.dz * 0.01"
   ]
  },
  {
   "cell_type": "code",
   "execution_count": 8,
   "metadata": {},
   "outputs": [],
   "source": [
    "area_m2.attrs['units'] = 'm2'\n",
    "dz_m.attrs['units'] = 'm'"
   ]
  },
  {
   "cell_type": "code",
   "execution_count": 9,
   "metadata": {},
   "outputs": [],
   "source": [
    "dz_m_150m = dz_m.isel(z_t=slice(0,15)).rename({'z_t':'z_t_150m'})"
   ]
  },
  {
   "cell_type": "code",
   "execution_count": 10,
   "metadata": {},
   "outputs": [],
   "source": [
    "dz_m['z_t'] = ds2015.z_t\n",
    "dz_m_150m['z_t'] = ds2015.z_t_150m"
   ]
  },
  {
   "cell_type": "markdown",
   "metadata": {},
   "source": [
    "## Total up global carbon inventories"
   ]
  },
  {
   "cell_type": "markdown",
   "metadata": {},
   "source": [
    "#### Divide concentration variables into two groups based on depth dimension"
   ]
  },
  {
   "cell_type": "code",
   "execution_count": 11,
   "metadata": {},
   "outputs": [],
   "source": [
    "vars1 = ['coccoCaCO3','diatC', 'coccoC','spC','diazC','microzooC','mesozooC']\n",
    "vars2 = ['DIC','DOC','DOCr']"
   ]
  },
  {
   "cell_type": "markdown",
   "metadata": {},
   "source": [
    "#### sum up carbon into global datasets"
   ]
  },
  {
   "cell_type": "code",
   "execution_count": 12,
   "metadata": {},
   "outputs": [],
   "source": [
    "ds_glb2015 = xr.Dataset()\n",
    "ds_glb2100 = xr.Dataset()\n",
    "\n",
    "for v in vars1:\n",
    "    \n",
    "    ### 2015\n",
    "    tmp = (ds2015[v] * dz_m_150m).sum(dim='z_t_150m') # units = mmolC/m2\n",
    "    tmp = tmp * area_m2 # units = mmol C/gridcell\n",
    "    tmp = tmp.sum(dim=('nlon','nlat')) # mmol C in the ocean\n",
    "\n",
    "    ds_glb2015[v] = tmp.values * 0.001 * 12.011 * 1e-15 # convert from mmol C to Pg C\n",
    "    \n",
    "    ### 2100\n",
    "    tmp = (ds2100[v] * dz_m_150m).sum(dim='z_t_150m') # units = mmolC/m2\n",
    "    tmp = tmp * area_m2 # units = mmol C/gridcell\n",
    "    tmp = tmp.sum(dim=('nlon','nlat')) # mmol C in the ocean\n",
    "\n",
    "    ds_glb2100[v] = tmp.values * 0.001 * 12.011 * 1e-15 # convert from mmol C to Pg C\n",
    "\n",
    "for v in vars2:\n",
    "    tmp = (ds2015[v] * dz_m).sum(dim='z_t') # units = mmolC/m2\n",
    "    tmp = tmp * area_m2 # units = mmol C/gridcell\n",
    "    tmp = tmp.sum(dim=('nlon','nlat')) # mmol C in the ocean\n",
    "\n",
    "    ds_glb2015[v] = tmp.values * 0.001 * 12.011 * 1e-15 # convert from mmol C to Pg C\n",
    "    \n",
    "    \n",
    "    ### 2100\n",
    "    tmp = (ds2100[v] * dz_m).sum(dim='z_t') # units = mmolC/m2\n",
    "    tmp = tmp * area_m2 # units = mmol C/gridcell\n",
    "    tmp = tmp.sum(dim=('nlon','nlat')) # mmol C in the ocean\n",
    "\n",
    "    ds_glb2100[v] = tmp.values * 0.001 * 12.011 * 1e-15 # convert from mmol C to Pg C\n",
    "    "
   ]
  },
  {
   "cell_type": "markdown",
   "metadata": {},
   "source": [
    "### Total up carbon in the ocean"
   ]
  },
  {
   "cell_type": "code",
   "execution_count": 13,
   "metadata": {},
   "outputs": [],
   "source": [
    "totC_2015 = 0\n",
    "totC_2100 = 0\n",
    "\n",
    "for var in vars1 + vars2:\n",
    "\n",
    "    totC_2015 = totC_2015 + ds_glb2015[var].values\n",
    "    totC_2100 = totC_2100 + ds_glb2100[var].values\n",
    "\n",
    "ds_glb2015['totC'] = totC_2015\n",
    "ds_glb2100['totC'] = totC_2100"
   ]
  },
  {
   "cell_type": "markdown",
   "metadata": {},
   "source": [
    "### Make a table of the values"
   ]
  },
  {
   "cell_type": "code",
   "execution_count": 15,
   "metadata": {},
   "outputs": [],
   "source": [
    "df = pd.DataFrame(columns=['carbon pool','quantity 2015','quantity 2100','unit'])"
   ]
  },
  {
   "cell_type": "code",
   "execution_count": 16,
   "metadata": {},
   "outputs": [],
   "source": [
    "df.loc[0] = ['Dissolved inorganic carbon',np.round(ds_glb2015.DIC.values,1),np.round(ds_glb2100.DIC.values,1),'Pg C']\n",
    "df.loc[1] = ['Refractory dissolved organic carbon',np.round(ds_glb2015.DOCr.values,3),np.round(ds_glb2100.DOCr.values,3),'Pg C']\n",
    "df.loc[2] = ['Semi-labile dissolved organic carbon',np.round(ds_glb2015.DOC.values,3),np.round(ds_glb2100.DOC.values,3),'Pg C']\n",
    "df.loc[3] = ['Mesozooplankton biomass',np.round(ds_glb2015.mesozooC.values,3),np.round(ds_glb2100.mesozooC.values,3),'Pg C']\n",
    "df.loc[4] = ['Microzooplankton biomass',np.round(ds_glb2015.microzooC.values,3),np.round(ds_glb2100.microzooC.values,3),'Pg C']\n",
    "df.loc[5] = ['Diatom biomass',np.round(ds_glb2015.diatC.values,3),np.round(ds_glb2100.diatC.values,3),'Pg C']\n",
    "df.loc[6] = ['Small phytoplankton biomass',np.round(ds_glb2015.spC.values,3),np.round(ds_glb2100.spC.values,3),'Pg C']\n",
    "df.loc[7] = ['Coccolithophore biomass',np.round(ds_glb2015.coccoC.values,3),np.round(ds_glb2100.coccoC.values,3),'Pg C']\n",
    "df.loc[8] = ['Diazotroph biomass',np.round(ds_glb2015.diazC.values,5),np.round(ds_glb2100.diazC.values,5),'Pg C']\n",
    "df.loc[9] = ['Coccolithophore CaCO$_3$',np.round(ds_glb2015.coccoCaCO3.values,5),np.round(ds_glb2100.coccoCaCO3.values,5),'Pg C']\n",
    "df.loc[10] = ['Total carbon in ocean',np.round(ds_glb2015.totC.values,2),np.round(ds_glb2100.totC.values,2),'Pg C']"
   ]
  },
  {
   "cell_type": "code",
   "execution_count": 17,
   "metadata": {},
   "outputs": [
    {
     "data": {
      "text/html": [
       "<div>\n",
       "<style scoped>\n",
       "    .dataframe tbody tr th:only-of-type {\n",
       "        vertical-align: middle;\n",
       "    }\n",
       "\n",
       "    .dataframe tbody tr th {\n",
       "        vertical-align: top;\n",
       "    }\n",
       "\n",
       "    .dataframe thead th {\n",
       "        text-align: right;\n",
       "    }\n",
       "</style>\n",
       "<table border=\"1\" class=\"dataframe\">\n",
       "  <thead>\n",
       "    <tr style=\"text-align: right;\">\n",
       "      <th></th>\n",
       "      <th>carbon pool</th>\n",
       "      <th>quantity 2015</th>\n",
       "      <th>quantity 2100</th>\n",
       "      <th>unit</th>\n",
       "    </tr>\n",
       "  </thead>\n",
       "  <tbody>\n",
       "    <tr>\n",
       "      <th>0</th>\n",
       "      <td>Dissolved inorganic carbon</td>\n",
       "      <td>37233.60000</td>\n",
       "      <td>37479.30000</td>\n",
       "      <td>Pg C</td>\n",
       "    </tr>\n",
       "    <tr>\n",
       "      <th>1</th>\n",
       "      <td>Refractory dissolved organic carbon</td>\n",
       "      <td>361.57800</td>\n",
       "      <td>362.15700</td>\n",
       "      <td>Pg C</td>\n",
       "    </tr>\n",
       "    <tr>\n",
       "      <th>2</th>\n",
       "      <td>Semi-labile dissolved organic carbon</td>\n",
       "      <td>29.42600</td>\n",
       "      <td>30.10500</td>\n",
       "      <td>Pg C</td>\n",
       "    </tr>\n",
       "    <tr>\n",
       "      <th>3</th>\n",
       "      <td>Mesozooplankton biomass</td>\n",
       "      <td>0.41400</td>\n",
       "      <td>0.41200</td>\n",
       "      <td>Pg C</td>\n",
       "    </tr>\n",
       "    <tr>\n",
       "      <th>4</th>\n",
       "      <td>Microzooplankton biomass</td>\n",
       "      <td>0.23300</td>\n",
       "      <td>0.23300</td>\n",
       "      <td>Pg C</td>\n",
       "    </tr>\n",
       "    <tr>\n",
       "      <th>5</th>\n",
       "      <td>Diatom biomass</td>\n",
       "      <td>0.26100</td>\n",
       "      <td>0.25600</td>\n",
       "      <td>Pg C</td>\n",
       "    </tr>\n",
       "    <tr>\n",
       "      <th>6</th>\n",
       "      <td>Small phytoplankton biomass</td>\n",
       "      <td>0.19600</td>\n",
       "      <td>0.19600</td>\n",
       "      <td>Pg C</td>\n",
       "    </tr>\n",
       "    <tr>\n",
       "      <th>7</th>\n",
       "      <td>Coccolithophore biomass</td>\n",
       "      <td>0.03700</td>\n",
       "      <td>0.03500</td>\n",
       "      <td>Pg C</td>\n",
       "    </tr>\n",
       "    <tr>\n",
       "      <th>8</th>\n",
       "      <td>Diazotroph biomass</td>\n",
       "      <td>0.00986</td>\n",
       "      <td>0.00997</td>\n",
       "      <td>Pg C</td>\n",
       "    </tr>\n",
       "    <tr>\n",
       "      <th>9</th>\n",
       "      <td>Coccolithophore CaCO$_3$</td>\n",
       "      <td>0.01398</td>\n",
       "      <td>0.01217</td>\n",
       "      <td>Pg C</td>\n",
       "    </tr>\n",
       "    <tr>\n",
       "      <th>10</th>\n",
       "      <td>Total carbon in ocean</td>\n",
       "      <td>37625.76000</td>\n",
       "      <td>37872.67000</td>\n",
       "      <td>Pg C</td>\n",
       "    </tr>\n",
       "  </tbody>\n",
       "</table>\n",
       "</div>"
      ],
      "text/plain": [
       "                             carbon pool  quantity 2015  quantity 2100  unit\n",
       "0             Dissolved inorganic carbon    37233.60000    37479.30000  Pg C\n",
       "1    Refractory dissolved organic carbon      361.57800      362.15700  Pg C\n",
       "2   Semi-labile dissolved organic carbon       29.42600       30.10500  Pg C\n",
       "3                Mesozooplankton biomass        0.41400        0.41200  Pg C\n",
       "4               Microzooplankton biomass        0.23300        0.23300  Pg C\n",
       "5                         Diatom biomass        0.26100        0.25600  Pg C\n",
       "6            Small phytoplankton biomass        0.19600        0.19600  Pg C\n",
       "7                Coccolithophore biomass        0.03700        0.03500  Pg C\n",
       "8                     Diazotroph biomass        0.00986        0.00997  Pg C\n",
       "9               Coccolithophore CaCO$_3$        0.01398        0.01217  Pg C\n",
       "10                 Total carbon in ocean    37625.76000    37872.67000  Pg C"
      ]
     },
     "execution_count": 17,
     "metadata": {},
     "output_type": "execute_result"
    }
   ],
   "source": [
    "df"
   ]
  },
  {
   "cell_type": "code",
   "execution_count": null,
   "metadata": {},
   "outputs": [],
   "source": []
  }
 ],
 "metadata": {
  "kernelspec": {
   "display_name": "NPL 2023a",
   "language": "python",
   "name": "npl-2023a"
  },
  "language_info": {
   "codemirror_mode": {
    "name": "ipython",
    "version": 3
   },
   "file_extension": ".py",
   "mimetype": "text/x-python",
   "name": "python",
   "nbconvert_exporter": "python",
   "pygments_lexer": "ipython3",
   "version": "3.9.16"
  }
 },
 "nbformat": 4,
 "nbformat_minor": 4
}
