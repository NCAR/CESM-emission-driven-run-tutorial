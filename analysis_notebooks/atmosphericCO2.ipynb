{
 "cells": [
  {
   "cell_type": "markdown",
   "id": "77f131a7-0d48-47db-ac0a-75901785fed2",
   "metadata": {},
   "source": [
    "# Analyze simulated 4-D CO2 fields\n",
    "\n",
    "Gretchen Keppel-Aleks"
   ]
  },
  {
   "cell_type": "code",
   "execution_count": 1,
   "id": "faea7760-8813-4dfb-a136-25d67d84fd43",
   "metadata": {},
   "outputs": [],
   "source": [
    "%matplotlib inline\n",
    "import warnings\n",
    "warnings.filterwarnings('ignore')\n",
    "import os\n",
    "import glob\n",
    "from collections import OrderedDict\n",
    "import xarray as xr\n",
    "import numpy as np\n",
    "import matplotlib.pyplot as plt\n",
    "import cartopy\n",
    "import cartopy.crs as ccrs\n",
    "import pandas as pd"
   ]
  },
  {
   "cell_type": "code",
   "execution_count": null,
   "id": "e311de93-f51c-4c40-8556-a715104f42b1",
   "metadata": {},
   "outputs": [],
   "source": []
  }
 ],
 "metadata": {
  "kernelspec": {
   "display_name": "Python 3 (ipykernel)",
   "language": "python",
   "name": "python3"
  },
  "language_info": {
   "codemirror_mode": {
    "name": "ipython",
    "version": 3
   },
   "file_extension": ".py",
   "mimetype": "text/x-python",
   "name": "python",
   "nbconvert_exporter": "python",
   "pygments_lexer": "ipython3",
   "version": "3.10.13"
  }
 },
 "nbformat": 4,
 "nbformat_minor": 5
}
