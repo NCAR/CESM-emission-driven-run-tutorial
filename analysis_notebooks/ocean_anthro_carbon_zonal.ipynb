{
 "cells": [
  {
   "cell_type": "markdown",
   "metadata": {},
   "source": [
    "## Zonal means of anthropogenic carbon in the ocean\n",
    "### Zonal means of differences in DIC and DIC_ALT_CO2 in 2015 (the beginning of SSP2-4.5)"
   ]
  },
  {
   "cell_type": "markdown",
   "metadata": {},
   "source": [
    "* \"ALT_CO2\" variables represent the ocean carbonate system held under constant PI CO$_2$ levels.\n",
    "* Differencing `DIC` and `DIC_ALT_CO2` creates anthropogenic `DIC` in the ocean."
   ]
  },
  {
   "cell_type": "markdown",
   "metadata": {},
   "source": [
    "##### Run using the NPL 2023a environment"
   ]
  },
  {
   "cell_type": "code",
   "execution_count": 1,
   "metadata": {},
   "outputs": [
    {
     "data": {
      "text/plain": [
       "<xarray.core.options.set_options at 0x15529463bc70>"
      ]
     },
     "execution_count": 1,
     "metadata": {},
     "output_type": "execute_result"
    }
   ],
   "source": [
    "import warnings\n",
    "warnings.filterwarnings('ignore')\n",
    "%matplotlib inline\n",
    "import os\n",
    "from glob import glob\n",
    "from collections import OrderedDict\n",
    "import xarray as xr\n",
    "import numpy as np\n",
    "import matplotlib.pyplot as plt\n",
    "import cartopy\n",
    "import cartopy.crs as ccrs\n",
    "import pop_tools \n",
    "import utils_ocean as utils\n",
    "xr.set_options(keep_attrs=True)"
   ]
  },
  {
   "cell_type": "markdown",
   "metadata": {},
   "source": [
    "### define case and path"
   ]
  },
  {
   "cell_type": "code",
   "execution_count": 2,
   "metadata": {},
   "outputs": [],
   "source": [
    "case = 'b.e21.BSSP245.f09_g17.hopens-reference.esmfirebvoc.001'\n",
    "path = '/glade/campaign/cesm/community/bgcwg/HOPE/' + case + '/ocn/proc/tseries/month_1'"
   ]
  },
  {
   "cell_type": "markdown",
   "metadata": {},
   "source": [
    "### Get future SSP2-4.5 HOPE 001 ensemble member"
   ]
  },
  {
   "cell_type": "code",
   "execution_count": null,
   "metadata": {},
   "outputs": [],
   "source": [
    "variables = ['DIC','DIC_ALT_CO2','PD'] \n",
    "\n",
    "files = []\n",
    "year = 2100\n",
    "\n",
    "yr4=\"{:04d}\".format(year)\n",
    "\n",
    "for var in variables:\n",
    "\n",
    "    files.extend(sorted(glob(f'{path}/{case}.pop.h.{var}.201501-210012.nc')))\n",
    "\n",
    "\n",
    "ds = xr.open_mfdataset(files,decode_times=True,decode_coords=False, combine='nested')"
   ]
  },
  {
   "cell_type": "code",
   "execution_count": null,
   "metadata": {},
   "outputs": [],
   "source": [
    "keep_vars = ['z_t','z_t_150m','time_bound','TAREA','time',\n",
    "             'REGION_MASK','dz','KMT','TLONG','TLAT'] + variables\n",
    "\n",
    "ds = ds.drop([v for v in ds.variables if v not in keep_vars])"
   ]
  },
  {
   "cell_type": "code",
   "execution_count": null,
   "metadata": {},
   "outputs": [],
   "source": [
    "ds = ds.isel(time=slice(0,12)).mean(dim='time', keep_attrs=True)"
   ]
  },
  {
   "cell_type": "markdown",
   "metadata": {},
   "source": [
    "### Use pop tools to get ocean grid info"
   ]
  },
  {
   "cell_type": "code",
   "execution_count": null,
   "metadata": {},
   "outputs": [],
   "source": [
    "ds_grid = pop_tools.get_grid('POP_gx1v7')\n",
    "lats = ds_grid.TLAT\n",
    "lons = ds_grid.TLONG\n",
    "area = ds_grid.TAREA\n",
    "area_m2 = area * 1.e-4\n",
    "dz_m = ds_grid.dz * 0.01\n",
    "\n",
    "ds_grid.to_netcdf('/glade/derecho/scratch/kristenk/POP_gx1v7.nc')"
   ]
  },
  {
   "cell_type": "markdown",
   "metadata": {},
   "source": [
    "### Use Keith's method of computing zonal means"
   ]
  },
  {
   "cell_type": "code",
   "execution_count": null,
   "metadata": {},
   "outputs": [],
   "source": [
    "for var in variables:\n",
    "    attrs = ds[var].attrs\n",
    "    np_array = ds[var].values\n",
    "    ds[var] = xr.DataArray(np_array.astype('float64'),dims=('z_t','nlat','nlon'))\n",
    "    ds[var].attrs = attrs"
   ]
  },
  {
   "cell_type": "code",
   "execution_count": null,
   "metadata": {},
   "outputs": [],
   "source": [
    "ds"
   ]
  },
  {
   "cell_type": "code",
   "execution_count": null,
   "metadata": {},
   "outputs": [],
   "source": [
    "rmask_file = os.path.join(os.path.sep,\n",
    "                          'glade',\n",
    "                          'campaign',\n",
    "                          'cgd',\n",
    "                          'oce',\n",
    "                          'people',\n",
    "                          'klindsay',\n",
    "                          'oldcgdoce',\n",
    "                          'REGION_MASK',\n",
    "                          'new_REGION_MASK_gx1v6.nc')\n",
    "\n",
    "da_zonal_mean = dict()\n",
    "for var in variables:\n",
    "    print('doing variable:', var)\n",
    "    ds_tmp = utils.zonal_mean_via_fortran(ds, var, grid='gx1v7',rmask_file=rmask_file)\n",
    "    print('ran za')\n",
    "    da_zonal_mean[var] = ds_tmp[var].compute()"
   ]
  },
  {
   "cell_type": "code",
   "execution_count": null,
   "metadata": {},
   "outputs": [],
   "source": [
    "da_zonal_mean.keys()"
   ]
  },
  {
   "cell_type": "markdown",
   "metadata": {},
   "source": [
    "### Set up variables for global zonal mean plot"
   ]
  },
  {
   "cell_type": "code",
   "execution_count": null,
   "metadata": {},
   "outputs": [],
   "source": [
    "DIC_diff_zonal = da_zonal_mean['DIC'].isel(basins=0) - da_zonal_mean['DIC_ALT_CO2'].isel(basins=0)\n",
    "\n",
    "DIC_zonal_top = DIC_diff_zonal.isel(z_t=slice(0,40))\n",
    "DIC_zonal_bottom = DIC_diff_zonal.isel(z_t=slice(40,60))\n",
    "\n",
    "lats = da_zonal_mean['DIC'].lat_t.values\n",
    "depths = da_zonal_mean['DIC'].z_t.values * 0.01\n",
    "\n",
    "z_top=depths[0:40]\n",
    "z_bottom=depths[40:60]\n",
    "\n",
    "zonal_pdens = da_zonal_mean['PD'].isel(basins=0) * 1000. - 1000.\n",
    "\n",
    "pdens_zonal_top = zonal_pdens.isel(z_t=slice(0,40))\n",
    "pdens_zonal_bottom = zonal_pdens.isel(z_t=slice(40,60))"
   ]
  },
  {
   "cell_type": "code",
   "execution_count": null,
   "metadata": {},
   "outputs": [],
   "source": [
    "levels = [0,5,10,15,20,25,30,35,40,50,60]\n",
    "sigma_levels = [22.6, 23., 23.4, 23.8,24.2, 24.6, 25., 25.4, 25.8, 26.2, 26.6, 27., 27.4, 27.8, 28.2]\n",
    "cmap = 'PuBuGn'\n",
    "\n",
    "fig = plt.figure(figsize=(10,6))\n",
    "\n",
    "ax = fig.add_subplot(2,1,1)\n",
    "ax.set_title('Anthropogenic DIC - Global zonal mean (with potential density contours)',loc='left',fontsize=10)\n",
    "\n",
    "pc=ax.contourf(lats, z_top, DIC_zonal_top, levels, cmap=cmap,extend='both')\n",
    "contour = plt.contour(lats, z_top, pdens_zonal_top, sigma_levels, colors='k')\n",
    "plt.clabel(contour, colors = 'k', fmt = '%2.1f', fontsize=12)\n",
    "ax.set(ylabel='Depth (m)')\n",
    "ax.invert_yaxis()\n",
    "\n",
    "ax = fig.add_subplot(2,1,2)\n",
    "pc=ax.contourf(lats, z_bottom, DIC_zonal_bottom, levels, cmap=cmap,extend='both')\n",
    "contour = plt.contour(lats, z_bottom, pdens_zonal_bottom, sigma_levels, colors='k')\n",
    "plt.clabel(contour, colors = 'k', fmt = '%2.1f', fontsize=12)\n",
    "ax.set(ylabel='depth (m)', xlabel='Latitude')\n",
    "ax.invert_yaxis()\n",
    "\n",
    "fig.subplots_adjust(right=0.82,hspace=0.01)\n",
    "cbar_ax = fig.add_axes([0.85, 0.15, 0.02, 0.7])\n",
    "cbar = fig.colorbar(pc, cax=cbar_ax, extend='max', label='DIC difference (mmol/m3)')"
   ]
  },
  {
   "cell_type": "markdown",
   "metadata": {},
   "source": [
    "### Set up variables for basin plots"
   ]
  },
  {
   "cell_type": "markdown",
   "metadata": {},
   "source": [
    "### For zonal means dataset:\n",
    "#### * Pacific basin (basin = 1)\n",
    "#### * Atlantic basin (basin = 3)\n",
    "#### * Indian basin (basin = 2)"
   ]
  },
  {
   "cell_type": "code",
   "execution_count": null,
   "metadata": {},
   "outputs": [],
   "source": [
    "DIC_diff_zonal_pac = da_zonal_mean['DIC'].isel(basins=1) - da_zonal_mean['DIC_ALT_CO2'].isel(basins=1)\n",
    "DIC_diff_zonal_ind = da_zonal_mean['DIC'].isel(basins=2) - da_zonal_mean['DIC_ALT_CO2'].isel(basins=2)\n",
    "DIC_diff_zonal_atl = da_zonal_mean['DIC'].isel(basins=3) - da_zonal_mean['DIC_ALT_CO2'].isel(basins=3)\n",
    "\n",
    "DIC_zonal_top_pac = DIC_diff_zonal_pac.isel(z_t=slice(0,40))\n",
    "DIC_zonal_bottom_pac = DIC_diff_zonal_pac.isel(z_t=slice(40,60))\n",
    "DIC_zonal_top_ind = DIC_diff_zonal_ind.isel(z_t=slice(0,40))\n",
    "DIC_zonal_bottom_ind = DIC_diff_zonal_ind.isel(z_t=slice(40,60))\n",
    "DIC_zonal_top_atl = DIC_diff_zonal_atl.isel(z_t=slice(0,40))\n",
    "DIC_zonal_bottom_atl = DIC_diff_zonal_atl.isel(z_t=slice(40,60))\n",
    "\n",
    "lats = da_zonal_mean['DIC'].lat_t.values\n",
    "depths = da_zonal_mean['DIC'].z_t.values * 0.01\n",
    "\n",
    "z_top=depths[0:40]\n",
    "z_bottom=depths[40:60]\n",
    "\n",
    "zonal_pdens_pac = da_zonal_mean['PD'].isel(basins=1) * 1000. - 1000.\n",
    "zonal_pdens_ind = da_zonal_mean['PD'].isel(basins=2) * 1000. - 1000.\n",
    "zonal_pdens_atl = da_zonal_mean['PD'].isel(basins=3) * 1000. - 1000.\n",
    "\n",
    "pdens_zonal_top_pac = zonal_pdens_pac.isel(z_t=slice(0,40))\n",
    "pdens_zonal_bottom_pac = zonal_pdens_pac.isel(z_t=slice(40,60))\n",
    "pdens_zonal_top_ind = zonal_pdens_ind.isel(z_t=slice(0,40))\n",
    "pdens_zonal_bottom_ind = zonal_pdens_ind.isel(z_t=slice(40,60))\n",
    "pdens_zonal_top_atl = zonal_pdens_atl.isel(z_t=slice(0,40))\n",
    "pdens_zonal_bottom_atl = zonal_pdens_atl.isel(z_t=slice(40,60))"
   ]
  },
  {
   "cell_type": "code",
   "execution_count": null,
   "metadata": {},
   "outputs": [],
   "source": [
    "levels = [0,5,10,15,20,25,30,35,40,50,60]\n",
    "sigma_levels = [22.6, 23., 23.4, 23.8,24.2, 24.6, 25., 25.4, 25.8, 26.2, 26.6, 27., 27.4, 27.8, 28.2]\n",
    "cmap = 'PuBuGn'\n",
    "\n",
    "fig = plt.figure(figsize=(15,5))\n",
    "fig.suptitle('Anthropogenic carbon in major ocean basins')\n",
    "\n",
    "##################### Pacific plot\n",
    "ax = fig.add_subplot(2,3,1)\n",
    "ax.set_title('Pacific basin',loc='left',fontsize=12)\n",
    "\n",
    "pc=ax.contourf(lats, z_top, DIC_zonal_top_pac, levels, cmap=cmap, extend='both')\n",
    "contour = plt.contour(lats, z_top, pdens_zonal_top_pac, sigma_levels, colors='k')\n",
    "plt.clabel(contour, colors = 'k', fmt = '%2.1f', fontsize=12)\n",
    "ax.set(ylabel='Depth (m)')\n",
    "ax.invert_yaxis()\n",
    "\n",
    "ax = fig.add_subplot(2,3,4)\n",
    "pc=ax.contourf(lats, z_bottom, DIC_zonal_bottom_pac, levels, cmap=cmap, extend='both')\n",
    "contour = plt.contour(lats, z_bottom, pdens_zonal_bottom_pac, sigma_levels, colors='k')\n",
    "plt.clabel(contour, colors = 'k', fmt = '%2.1f', fontsize=12)\n",
    "ax.set(ylabel='depth (m)', xlabel='Latitude')\n",
    "ax.invert_yaxis()\n",
    "\n",
    "##################### Indian plot\n",
    "ax = fig.add_subplot(2,3,2)\n",
    "ax.set_title('Indian basin',loc='left',fontsize=12)\n",
    "\n",
    "pc=ax.contourf(lats, z_top, DIC_zonal_top_ind, levels, cmap=cmap, extend='both')\n",
    "contour = plt.contour(lats, z_top, pdens_zonal_top_ind, sigma_levels, colors='k')\n",
    "plt.clabel(contour, colors = 'k', fmt = '%2.1f', fontsize=12)\n",
    "ax.invert_yaxis()\n",
    "\n",
    "ax = fig.add_subplot(2,3,5)\n",
    "pc=ax.contourf(lats, z_bottom, DIC_zonal_bottom_ind, levels, cmap=cmap, extend='both')\n",
    "contour = plt.contour(lats, z_bottom, pdens_zonal_bottom_ind, sigma_levels, colors='k')\n",
    "plt.clabel(contour, colors = 'k', fmt = '%2.1f', fontsize=12)\n",
    "ax.set(xlabel='Latitude')\n",
    "ax.invert_yaxis()\n",
    "\n",
    "##################### Atlantic plot\n",
    "ax = fig.add_subplot(2,3,3)\n",
    "ax.set_title('Atlantic basin',loc='left',fontsize=12)\n",
    "\n",
    "pc=ax.contourf(lats, z_top, DIC_zonal_top_atl, levels, cmap=cmap, extend='both')\n",
    "contour = plt.contour(lats, z_top, pdens_zonal_top_atl, sigma_levels, colors='k')\n",
    "plt.clabel(contour, colors = 'k', fmt = '%2.1f', fontsize=12)\n",
    "ax.invert_yaxis()\n",
    "\n",
    "ax = fig.add_subplot(2,3,6)\n",
    "pc=ax.contourf(lats, z_bottom, DIC_zonal_bottom_atl, levels, cmap=cmap, extend='both')\n",
    "contour = plt.contour(lats, z_bottom, pdens_zonal_bottom_atl, sigma_levels, colors='k')\n",
    "plt.clabel(contour, colors = 'k', fmt = '%2.1f', fontsize=12)\n",
    "ax.set(xlabel='Latitude')\n",
    "ax.invert_yaxis()\n",
    "\n",
    "\n",
    "fig.subplots_adjust(right=0.82,hspace=0.01)\n",
    "cbar_ax = fig.add_axes([0.85, 0.15, 0.02, 0.7])\n",
    "cbar = fig.colorbar(pc, cax=cbar_ax, extend='max', label='DIC difference (mmol/m3)')"
   ]
  },
  {
   "cell_type": "code",
   "execution_count": null,
   "metadata": {},
   "outputs": [],
   "source": []
  }
 ],
 "metadata": {
  "kernelspec": {
   "display_name": "NPL 2023a",
   "language": "python",
   "name": "npl-2023a"
  },
  "language_info": {
   "codemirror_mode": {
    "name": "ipython",
    "version": 3
   },
   "file_extension": ".py",
   "mimetype": "text/x-python",
   "name": "python",
   "nbconvert_exporter": "python",
   "pygments_lexer": "ipython3",
   "version": "3.9.16"
  }
 },
 "nbformat": 4,
 "nbformat_minor": 4
}
