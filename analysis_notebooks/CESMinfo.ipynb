{
 "cells": [
  {
   "cell_type": "markdown",
   "id": "f2c80876-1890-4ea5-91b5-45c7b79d361f",
   "metadata": {},
   "source": [
    "# CESM Emissions-driven run tutorial"
   ]
  },
  {
   "cell_type": "markdown",
   "id": "ea662d52-bd1c-48fb-bdb5-0030a7d16467",
   "metadata": {},
   "source": [
    "If you have not run CESM before, consult the [CESM tutorial](https://ncar.github.io/CESM-Tutorial/README.html) for setting up directories\n",
    "\n",
    "Specific instructions for [downloading CESM to your workspace](https://ncar.github.io/CESM-Tutorial/notebooks/basics/code/git_download_cesm.html) (from the CESM tutorial)."
   ]
  },
  {
   "cell_type": "markdown",
   "id": "aa70c6c1-de23-4dc6-b006-d3e6764b60c6",
   "metadata": {},
   "source": [
    "We will use CESM version 2.YY?\n",
    "\n",
    "compset: "
   ]
  },
  {
   "cell_type": "markdown",
   "id": "010cfb9c-e8c3-46b7-ab9b-9bb634a36df3",
   "metadata": {},
   "source": [
    "link to shell script from czarakas that contains all of the settings"
   ]
  },
  {
   "cell_type": "code",
   "execution_count": null,
   "id": "92cc2015-87a2-4bb4-8c7e-fa9dd0b2d821",
   "metadata": {},
   "outputs": [],
   "source": []
  }
 ],
 "metadata": {
  "kernelspec": {
   "display_name": "Python [conda env:xcdat_plus]",
   "language": "python",
   "name": "conda-env-xcdat_plus-py"
  },
  "language_info": {
   "codemirror_mode": {
    "name": "ipython",
    "version": 3
   },
   "file_extension": ".py",
   "mimetype": "text/x-python",
   "name": "python",
   "nbconvert_exporter": "python",
   "pygments_lexer": "ipython3",
   "version": "3.11.7"
  }
 },
 "nbformat": 4,
 "nbformat_minor": 5
}
